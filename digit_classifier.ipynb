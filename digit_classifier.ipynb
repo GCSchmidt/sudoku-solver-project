{
  "cells": [
    {
      "cell_type": "markdown",
      "source": [
        "# Train a Model to Classify Digits in Small Images\n",
        "\n",
        "This notebook focuses on training a model to classify small images that conatain a single digit (0-9). The classifier will be integrated into a **Sudoku Solver program**, where it will identify digits from images of Sudoku quizes. By accurately recognizing digits in Sudoku cells, the model will enable the solver to process and solve puzzles from images.\n",
        "\n",
        "## Objectives\n",
        "1. **Dataset Creation**: Generate a dataset of small digit images by augmenting a set of template images.\n",
        "2. **Model Training with Scikit-learn**: Train and evaluate traditional machine learning models using Scikit-learn.\n",
        "3. **CNN Model with TensorFlow**: Build, train, and test a Convolutional Neural Network (CNN) using TensorFlow for improved accuracy.\n",
        "\n",
        "---\n",
        "\n",
        "### Key Steps\n",
        "1. **Dataset Preparation**:\n",
        "   - Start with a small set of template digit images.\n",
        "   - Apply transformations (scaling and shifting) to create a diverse dataset.\n",
        "\n",
        "2. **Scikit-learn Models**:\n",
        "   - Train baseline models (SVM and SGD) to classify digits.\n",
        "   - Evaluate performance using accuracy.\n",
        "\n",
        "3. **CNN with TensorFlow**:\n",
        "   - Design a CNN architecture suitable for small image classification.\n",
        "   - Train the model and tune hyperparameters for optimal performance.\n",
        "   - Compare results with Scikit-learn models to highlight the advantages of deep learning.\n",
        "\n",
        "---\n",
        "\n",
        "By the end of this notebook, you will have a trained model capable of accurately classifying digits, which can be seamlessly integrated into a Sudoku Solver program."
      ],
      "metadata": {
        "id": "ONWl75wM_CXL"
      }
    },
    {
      "cell_type": "code",
      "execution_count": 1,
      "metadata": {
        "id": "UorntFObQxA7"
      },
      "outputs": [],
      "source": [
        "import numpy as np\n",
        "import cv2 as cv\n",
        "import tensorflow as tf\n",
        "from tensorflow import keras\n",
        "from tensorflow.keras.preprocessing.image import ImageDataGenerator\n",
        "from tensorflow.keras.models import Sequential\n",
        "from tensorflow.keras.layers import Input, Conv2D, MaxPooling2D, Flatten, Dense\n",
        "from tensorflow.keras.utils import to_categorical\n",
        "from tensorflow.keras.models import load_model\n",
        "from PIL import Image\n",
        "import os\n",
        "import random\n",
        "import matplotlib.pyplot as plt\n",
        "import shutil\n",
        "from google.colab import files\n",
        "from sklearn.model_selection import train_test_split\n",
        "from sklearn import svm\n",
        "from sklearn.linear_model import SGDClassifier\n",
        "from sklearn.model_selection import GridSearchCV\n",
        "from sklearn.metrics import accuracy_score"
      ]
    },
    {
      "cell_type": "code",
      "source": [
        "# Gloabl Vars\n",
        "digit_templates = {}"
      ],
      "metadata": {
        "id": "NuzDvk6pn2ya"
      },
      "execution_count": 126,
      "outputs": []
    },
    {
      "cell_type": "markdown",
      "metadata": {
        "id": "KUzWSahFZg6A"
      },
      "source": [
        "## Helper Functions"
      ]
    },
    {
      "cell_type": "code",
      "execution_count": 165,
      "metadata": {
        "id": "0_23w0LXRL1-"
      },
      "outputs": [],
      "source": [
        "def crop_img(img, scale=1.0):\n",
        "    \"\"\"\n",
        "    Crops and image from the center.\n",
        "    \"\"\"\n",
        "    center_x, center_y = img.shape[1] / 2, img.shape[0] / 2\n",
        "    width_scaled, height_scaled = img.shape[1] * scale, img.shape[0] * scale\n",
        "    left_x, right_x = center_x - width_scaled / 2, center_x + width_scaled / 2\n",
        "    top_y, bottom_y = center_y - height_scaled / 2, center_y + height_scaled / 2\n",
        "    img_cropped = img[int(top_y):int(bottom_y), int(left_x):int(right_x)]\n",
        "    return img_cropped\n",
        "\n",
        "def load_templates():\n",
        "    \"\"\"\n",
        "    Load template digits into the digit_templates dictionary.\n",
        "    \"\"\"\n",
        "    global digit_templates\n",
        "\n",
        "    dir = r'/content/sample_data/digit_templates'\n",
        "    files = os.listdir(dir)\n",
        "    for file in files:\n",
        "        img = cv.imread(os.path.join(dir,file), cv.IMREAD_GRAYSCALE)\n",
        "        img = cv.GaussianBlur(img,(23,23),0)\n",
        "        img = cv.adaptiveThreshold(img,255,cv.ADAPTIVE_THRESH_MEAN_C, cv.THRESH_BINARY,23,1)\n",
        "        img = crop_img(img, 0.8)\n",
        "        img = cv.resize(img, (32,32), interpolation=cv.INTER_NEAREST)\n",
        "        file_name = os.path.splitext(os.path.basename(file))[0]\n",
        "        digit_templates[file_name]  = img\n",
        "\n",
        "def plot_digit_templates():\n",
        "    \"\"\"\n",
        "    Plots the template data.\n",
        "    \"\"\"\n",
        "    global digit_templates\n",
        "\n",
        "    num_digits = len(digit_templates)  # Number of images\n",
        "    fig, axes = plt.subplots(1, num_digits, figsize=(num_digits * 2, 2))\n",
        "\n",
        "    if num_digits == 1:  # Handle case for single image\n",
        "        axes = [axes]\n",
        "\n",
        "    for ax, (digit, image) in zip(axes, digit_templates.items()):\n",
        "        ax.imshow(image, cmap='gray', vmin=0, vmax=255)  # Adjust cmap for grayscale\n",
        "        ax.set_title(f\"Digit: {digit}\")\n",
        "        ax.axis(\"off\")  # Hide axes\n",
        "\n",
        "    plt.show()\n",
        "\n",
        "def augment_image(img):\n",
        "    \"\"\"\n",
        "    Augments an image by applying scaling, sfifting and thresholding.\n",
        "    \"\"\"\n",
        "    rows, cols = img.shape\n",
        "\n",
        "    # Scaling (zoom in/out)\n",
        "    scale_factor = np.random.uniform(0.8, 1.2)  # Scale between 80% and 120%\n",
        "    M_scale = cv.getRotationMatrix2D((cols / 2, rows / 2), 0, scale_factor)\n",
        "    img_scaled = cv.warpAffine(img, M_scale, (cols, rows), borderMode=cv.BORDER_CONSTANT, borderValue=255)\n",
        "\n",
        "    # Shifting (up, down, left, right)\n",
        "    max_shift = int(0.2*rows)\n",
        "    shift_range = int(max_shift*(1/scale_factor))\n",
        "    shift_x = np.random.uniform(-shift_range, shift_range)\n",
        "    shift_y = np.random.uniform(-shift_range, shift_range)\n",
        "    M_shift = np.float32([[1, 0, shift_x], [0, 1, shift_y]])\n",
        "    img_shifted = cv.warpAffine(img_scaled, M_shift, (cols, rows), borderMode=cv.BORDER_CONSTANT, borderValue=255)\n",
        "    kernel_size = random.choice([3,5,7,9])\n",
        "    img_aug = cv.adaptiveThreshold(img_shifted,255,cv.ADAPTIVE_THRESH_MEAN_C, cv.THRESH_BINARY,kernel_size,1)\n",
        "\n",
        "    return img_aug\n",
        "\n",
        "def prep_model_input(img):\n",
        "    \"\"\"\n",
        "    Converts image into format for the tf CNN model.\n",
        "    \"\"\"\n",
        "    img = 255-img\n",
        "    img = img / 255.0\n",
        "    img_array = tf.expand_dims(img, axis=0)\n",
        "    return img_array\n",
        "\n",
        "def scikit_image_preprocessing(img):\n",
        "    \"\"\"\n",
        "    Prepare image data for scikit learn models\n",
        "    \"\"\"\n",
        "    image_size = (32, 32)  # Resize all images to 32x32\n",
        "    img = cv.resize(img, image_size)  # Resize to 32x32\n",
        "    img_flattened = img.flatten()  # Convert 32x32 image to a 1024-dim vector\n",
        "    np.array(img_flattened, dtype=np.float32)\n",
        "    img_norm = img_flattened / 255.0\n",
        "    return img_norm\n",
        "\n",
        "def tf_image_preprocessing(img, label):\n",
        "    img = 255-img\n",
        "    return tf.cast(img, tf.float32)/255.0, label"
      ]
    },
    {
      "cell_type": "markdown",
      "source": [
        "## View Digit Templates\n",
        "\n",
        "These are the images that will be used to create a larger dataset, through augmentation."
      ],
      "metadata": {
        "id": "_XXTe7sxyxQ2"
      }
    },
    {
      "cell_type": "code",
      "source": [
        "load_templates()\n",
        "plot_digit_templates()"
      ],
      "metadata": {
        "colab": {
          "base_uri": "https://localhost:8080/",
          "height": 163
        },
        "id": "e2faZbXwoGlQ",
        "outputId": "57ea3e34-e11c-42dd-f0ee-8470b93af29a"
      },
      "execution_count": 128,
      "outputs": [
        {
          "output_type": "display_data",
          "data": {
            "text/plain": [
              "<Figure size 2000x200 with 10 Axes>"
            ],
            "image/png": "[encoded data removed]"
          },
          "metadata": {}
        }
      ]
    },
    {
      "cell_type": "markdown",
      "source": [
        "## Create a Dataset of Augmented Images\n",
        "\n",
        "For augmentation, only shifting and zooming are applied. The images are binary (0 or 255), and the shape of the digit is slightly altered due to adaptive thresholding, which is applied with random kernel sizes. Shifting is performed so that the digit always remains completely within the image.\n",
        "\n",
        "Below is an example of how augmentation can alter the image.\n",
        "\n",
        "To create the dataset, 100 versions of each template image are generated. The dataset can be downloaded if this notebook is run in Google Colab.\n"
      ],
      "metadata": {
        "id": "RAQHNQ9ry9Eg"
      }
    },
    {
      "cell_type": "code",
      "source": [
        "# An example of what augmentation does\n",
        "fig, axes = plt.subplots(1, 2, figsize=(5, 2.5))\n",
        "axes[0].imshow(digit_templates['2'], cmap='gray', vmax=255, vmin=0)\n",
        "axes[0].set_title(\"Original\")\n",
        "axes[1].imshow(augment_image(digit_templates['2']), cmap='gray', vmax=255, vmin=0)\n",
        "axes[1].set_title(\"Augmented\")\n",
        "plt.show()"
      ],
      "metadata": {
        "colab": {
          "base_uri": "https://localhost:8080/",
          "height": 259
        },
        "id": "vikN9iBKph6s",
        "outputId": "ee3c255e-e648-4ec3-a914-f8b8eb6c8bd7"
      },
      "execution_count": 134,
      "outputs": [
        {
          "output_type": "display_data",
          "data": {
            "text/plain": [
              "<Figure size 500x250 with 2 Axes>"
            ],
            "image/png": "[encoded data removed]"
          },
          "metadata": {}
        }
      ]
    },
    {
      "cell_type": "code",
      "execution_count": 10,
      "metadata": {
        "id": "KcT5CR7QgTjh"
      },
      "outputs": [],
      "source": [
        "# Create dataset\n",
        "dataset_dir = r'/content/sample_data/digit_dataset'\n",
        "os.mkdir(dataset_dir)\n",
        "\n",
        "for label, img in digit_templates.items():\n",
        "  os.mkdir(os.path.join(dataset_dir, label))\n",
        "\n",
        "  for i in range(0,100):\n",
        "    img_aug = augment_image(img)\n",
        "    cv.imwrite(os.path.join(dataset_dir, label, f\"{label}_{i}.png\"), img_aug) # Save the image"
      ]
    },
    {
      "cell_type": "code",
      "source": [
        "# Zip and download dataset\n",
        "# zip_name = \"digit_dataset.zip\"\n",
        "# shutil.make_archive(zip_name.replace(\".zip\", \"\"), 'zip', dataset_dir)\n",
        "# files.download(zip_name)"
      ],
      "metadata": {
        "id": "unZqkktcsJro"
      },
      "execution_count": 11,
      "outputs": []
    },
    {
      "cell_type": "markdown",
      "source": [
        "## Train a Model\n",
        "\n",
        "The following cells train various classifiers. The first two classifiers use Scikit-learn models, followed by a CNN model trained with TensorFlow."
      ],
      "metadata": {
        "id": "hY4m-ggPzUnd"
      }
    },
    {
      "cell_type": "markdown",
      "source": [
        "### Training Scikit-Learn Models\n",
        "\n",
        "Below two models are trained. First, the dataset is processed to be compatible with Scikit-learn models and split into training and testing sets. Then, an SVM and an SGD model are trained. GridSearchCV is used to find the optimal hyperparameters for each model.\n"
      ],
      "metadata": {
        "id": "u7d10gA80ZwZ"
      }
    },
    {
      "cell_type": "markdown",
      "source": [
        "#### Data Preparation"
      ],
      "metadata": {
        "id": "Z9rtzBB7J9GB"
      }
    },
    {
      "cell_type": "code",
      "source": [
        "# Prepare data for the scikit-learn models\n",
        "\n",
        "dataset_dir = \"/content/sample_data/digit_dataset\"\n",
        "\n",
        "# Prepare data storage\n",
        "X = []  # Features (flattened images)\n",
        "y = []  # Labels (digits 0-9)\n",
        "\n",
        "# Load images from folders\n",
        "for label in range(10):  # Loop through digit folders (0-9)\n",
        "    folder_path = os.path.join(dataset_dir, str(label))  # e.g., \"digit_dataset/0/\"\n",
        "\n",
        "    for file in os.listdir(folder_path):\n",
        "        img_path = os.path.join(folder_path, file)\n",
        "        img = cv.imread(img_path, cv.IMREAD_GRAYSCALE)  # Load as grayscale\n",
        "\n",
        "        if img is None:\n",
        "            continue  # Skip invalid images\n",
        "\n",
        "        img = scikit_image_preprocessing(img) # make data\n",
        "        X.append(img)\n",
        "        y.append(label)  # The folder name is the digit label\n",
        "\n",
        "# Convert lists to NumPy arrays\n",
        "X = np.array(X)\n",
        "y = np.array(y, dtype=np.uint8)\n",
        "\n",
        "X_train, X_test, y_train, y_test = train_test_split(X, y, test_size=0.2) # 20% of data used for testing"
      ],
      "metadata": {
        "id": "RnkDL35g0ZUg"
      },
      "execution_count": 14,
      "outputs": []
    },
    {
      "cell_type": "markdown",
      "source": [
        "#### SVM"
      ],
      "metadata": {
        "id": "BM790yRi05AZ"
      }
    },
    {
      "cell_type": "code",
      "source": [
        "# Train an SVM classifier\n",
        "\n",
        "# params for tuning\n",
        "hyper_param_grid = {\n",
        "    'C': [0.1, 10, 100],  # Regularization parameter\n",
        "    'kernel': ['linear', 'poly', 'rbf'],  # Kernel type\n",
        "    'gamma': ['scale', 'auto'] + [0.001, 0.01, 0.1, 1],  # Kernel coefficient for 'rbf', 'poly'\n",
        "    'degree': [3, 4, 5],  # Degree of the polynomial kernel ('poly')\n",
        "}\n",
        "\n",
        "svm_model = svm.SVC()\n",
        "grid_search = GridSearchCV(estimator=svm_model, param_grid=hyper_param_grid, refit = True, verbose = 1)\n",
        "grid_search.fit(X_train, y_train)\n",
        "\n",
        "# summarize the results of the grid search\n",
        "print(f\"The Model with params {grid_search.best_estimator_} got the best score of {grid_search.best_score_}.\")"
      ],
      "metadata": {
        "id": "yiGShIBIyB6z",
        "colab": {
          "base_uri": "https://localhost:8080/"
        },
        "outputId": "ab64257f-fb47-4365-fa63-650ed79b453d"
      },
      "execution_count": 15,
      "outputs": [
        {
          "output_type": "stream",
          "name": "stdout",
          "text": [
            "Fitting 5 folds for each of 162 candidates, totalling 810 fits\n",
            "The Model with params SVC(C=10) got the best score of 0.73625.\n"
          ]
        }
      ]
    },
    {
      "cell_type": "code",
      "source": [
        "# set modelto the best model\n",
        "svm_model = grid_search.best_estimator_\n",
        "\n",
        "# Predict on test set\n",
        "y_pred = svm_model.predict(X_test)\n",
        "\n",
        "# # Evaluate accuracy\n",
        "accuracy = accuracy_score(y_test, y_pred)\n",
        "print(f\"SVM Accuracy: {accuracy:.2f}\")"
      ],
      "metadata": {
        "colab": {
          "base_uri": "https://localhost:8080/"
        },
        "id": "A4aa9CO7BtOt",
        "outputId": "20dcdf54-c6ed-4286-85b6-3736eb068721"
      },
      "execution_count": 138,
      "outputs": [
        {
          "output_type": "stream",
          "name": "stdout",
          "text": [
            "SVM Accuracy: 0.72\n"
          ]
        }
      ]
    },
    {
      "cell_type": "code",
      "source": [
        "# Test model on single image\n",
        "test_img_path = r'/content/sample_data/digit_dataset/7/7_5.png'\n",
        "test_img = cv.imread(test_img_path, cv.IMREAD_GRAYSCALE)  # Load as grayscale\n",
        "test_img_flat = scikit_image_preprocessing(test_img)\n",
        "test_prediction = svm_model.predict([test_img_flat])\n",
        "plt.imshow(test_img, cmap='gray', vmin=0, vmax=255)\n",
        "plt.title(f\"SVM predicted {test_prediction[0]}\")\n",
        "plt.show()"
      ],
      "metadata": {
        "colab": {
          "base_uri": "https://localhost:8080/",
          "height": 452
        },
        "id": "_A5DFzNx0sbR",
        "outputId": "9251cf02-a7bd-480e-85a3-b72fa39081f3"
      },
      "execution_count": 144,
      "outputs": [
        {
          "output_type": "display_data",
          "data": {
            "text/plain": [
              "<Figure size 640x480 with 1 Axes>"
            ],
            "image/png": "[encoded data removed]"
          },
          "metadata": {}
        }
      ]
    },
    {
      "cell_type": "markdown",
      "source": [
        "#### SGD"
      ],
      "metadata": {
        "id": "tg8b6O9EFSs0"
      }
    },
    {
      "cell_type": "code",
      "source": [
        "hyper_param_grid = {\n",
        "    'loss': ['log_loss'], # Loss functions\n",
        "    'penalty': ['l2', 'l1'],  # Regularization types\n",
        "    'alpha': [0.01],  # Regularization strength\n",
        "    'learning_rate': ['adaptive'], # Learning rate schedules\n",
        "    'eta0': [1, 0.1],  # Initial learning rate\n",
        "    'max_iter': [1000],  # Maximum number of iterations\n",
        "}\n",
        "\n",
        "sgd_model = SGDClassifier(random_state=42)\n",
        "\n",
        "grid_search = GridSearchCV(\n",
        "    estimator=sgd_model,\n",
        "    param_grid=hyper_param_grid,\n",
        "    cv=5,\n",
        "    scoring='accuracy',\n",
        "    verbose=1,\n",
        "    n_jobs=-1\n",
        ")\n",
        "\n",
        "grid_search.fit(X_train, y_train)\n",
        "print(f\"The Model with params {grid_search.best_estimator_} got the best score of {grid_search.best_score_}.\")"
      ],
      "metadata": {
        "id": "LYX2RoKS7njU",
        "colab": {
          "base_uri": "https://localhost:8080/"
        },
        "outputId": "1daabd0a-c55d-4c56-e63c-59c0c48952c1"
      },
      "execution_count": 161,
      "outputs": [
        {
          "output_type": "stream",
          "name": "stdout",
          "text": [
            "Fitting 5 folds for each of 4 candidates, totalling 20 fits\n",
            "The Model with params SGDClassifier(alpha=0.01, eta0=0.1, learning_rate='adaptive', loss='log_loss',\n",
            "              random_state=42) got the best score of 0.49375.\n"
          ]
        }
      ]
    },
    {
      "cell_type": "code",
      "source": [
        "# set model to best\n",
        "sgd_model = grid_search.best_estimator_\n",
        "\n",
        "# Predict on test set\n",
        "y_pred = sgd_model.predict(X_test)\n",
        "\n",
        "# # Evaluate accuracy\n",
        "accuracy = accuracy_score(y_test, y_pred)\n",
        "print(f\"SGD Accuracy: {accuracy:.2f}\")"
      ],
      "metadata": {
        "colab": {
          "base_uri": "https://localhost:8080/"
        },
        "id": "BLCLm0G7F8JH",
        "outputId": "8a33c10e-7b08-4b88-e85c-1d65c11fc2af"
      },
      "execution_count": 162,
      "outputs": [
        {
          "output_type": "stream",
          "name": "stdout",
          "text": [
            "SGD Accuracy: 0.48\n"
          ]
        }
      ]
    },
    {
      "cell_type": "code",
      "source": [
        "# Test model on single image\n",
        "test_img_path = r'/content/sample_data/digit_dataset/6/6_5.png'\n",
        "test_img = cv.imread(test_img_path, cv.IMREAD_GRAYSCALE)  # Load as grayscale\n",
        "test_img_flat = scikit_image_preprocessing(test_img)\n",
        "test_prediction = sgd_model.predict([test_img_flat])\n",
        "plt.imshow(test_img, cmap='gray', vmin=0, vmax=255)\n",
        "plt.title(f\"SGD predicted {test_prediction[0]}\")\n",
        "plt.show()"
      ],
      "metadata": {
        "colab": {
          "base_uri": "https://localhost:8080/",
          "height": 452
        },
        "id": "uFofzxUcF9bJ",
        "outputId": "855f854a-076c-405c-cc7c-e110aea5084b"
      },
      "execution_count": 166,
      "outputs": [
        {
          "output_type": "display_data",
          "data": {
            "text/plain": [
              "<Figure size 640x480 with 1 Axes>"
            ],
            "image/png": "[encoded data removed]"
          },
          "metadata": {}
        }
      ]
    },
    {
      "cell_type": "markdown",
      "source": [
        "### Train a Neural Network with TensorFlow\n",
        "\n",
        "A CNN model is trained using TensorFlow. Among the trained classifiers, the CNN proves to be the most accurate. Therefore, it is the preferred solution for digit detection in the Sudoku solver program.\n"
      ],
      "metadata": {
        "id": "nxZHXMwDO5ht"
      }
    },
    {
      "cell_type": "code",
      "source": [
        "# Basic Variables\n",
        "img_height = 32\n",
        "img_width = 32\n",
        "batch_size = 16\n",
        "\n",
        "# Define model architecture\n",
        "nn_model = Sequential([\n",
        "    Input((img_height,img_width, 1)),\n",
        "    Conv2D(32, 3, padding='same', activation='relu'),\n",
        "    MaxPooling2D((2, 2)),\n",
        "    Conv2D(64, 3, padding='same', activation='relu'),\n",
        "    MaxPooling2D((2, 2)),\n",
        "    Conv2D(64, 3, padding='same', activation='relu'),\n",
        "    Flatten(),\n",
        "    Dense(64, activation='relu'),\n",
        "    Dense(10, activation='softmax'),\n",
        "])\n",
        "\n",
        "# Load model and skip to example test\n",
        "# nn_model = load_model(\"/content/sample_data/SNET.keras\")"
      ],
      "metadata": {
        "id": "mGSVkFrELkcl"
      },
      "execution_count": 167,
      "outputs": []
    },
    {
      "cell_type": "code",
      "source": [
        "# setup dataset\n",
        "\n",
        "ds_train = keras.preprocessing.image_dataset_from_directory(\n",
        "    '/content/sample_data/digit_dataset',\n",
        "    labels='inferred',\n",
        "    label_mode='int',\n",
        "    class_names=[str(i) for i in range(0,10)],\n",
        "    color_mode='grayscale',\n",
        "    batch_size=batch_size,\n",
        "    image_size =(img_height,img_width),\n",
        "    shuffle=True,\n",
        "    seed=123,\n",
        "    validation_split=0.1,\n",
        "    subset='training'\n",
        ")\n",
        "\n",
        "AUTOTUNE = tf.data.experimental.AUTOTUNE\n",
        "ds_train = ds_train.map(tf_image_preprocessing, num_parallel_calls=AUTOTUNE)\n",
        "\n",
        "ds_validation = keras.preprocessing.image_dataset_from_directory(\n",
        "    '/content/sample_data/digit_dataset',\n",
        "    labels='inferred',\n",
        "    label_mode='int',\n",
        "    class_names=[str(i) for i in range(0,10)],\n",
        "    color_mode='grayscale',\n",
        "    batch_size=batch_size,\n",
        "    image_size =(img_height,img_width),\n",
        "    shuffle=True,\n",
        "    seed=123,\n",
        "    validation_split=0.1,\n",
        "    subset='validation'\n",
        ")\n",
        "\n",
        "AUTOTUNE = tf.data.experimental.AUTOTUNE\n",
        "ds_validation = ds_validation.map(tf_image_preprocessing, num_parallel_calls=AUTOTUNE)"
      ],
      "metadata": {
        "colab": {
          "base_uri": "https://localhost:8080/"
        },
        "id": "sJvJ0ZdpGWAJ",
        "outputId": "cfafff2d-105a-4c94-be1f-c02c79f197af"
      },
      "execution_count": 168,
      "outputs": [
        {
          "output_type": "stream",
          "name": "stdout",
          "text": [
            "Found 1000 files belonging to 10 classes.\n",
            "Using 900 files for training.\n",
            "Found 1000 files belonging to 10 classes.\n",
            "Using 100 files for validation.\n"
          ]
        }
      ]
    },
    {
      "cell_type": "code",
      "source": [
        "# view training data\n",
        "print(\"Some Training Samples\")\n",
        "for images, labels in ds_train.take(1):\n",
        "    # Determine the number of images to display (minimum of batch size or 9)\n",
        "    num_images = min(images.shape[0], 9)\n",
        "    # Create a figure to display the images\n",
        "    plt.figure(figsize=(5, 5))\n",
        "    for i in range(num_images):  # Display up to 9 images\n",
        "        ax = plt.subplot(3, 3, i + 1)\n",
        "        plt.imshow(images[i].numpy().astype(\"uint8\").squeeze(), cmap='gray', vmin=0, vmax=1)\n",
        "        plt.title(f\"Label: {labels[i].numpy()}\")\n",
        "        plt.axis(\"off\")\n",
        "    plt.show()\n",
        "\n",
        "# View Batch Shapes\n",
        "print(\"Batch Shapes:\")\n",
        "for image_batch, labels_batch in ds_train:\n",
        "  print(\"Data: \", image_batch.shape)\n",
        "  print(\"Labels: \", labels_batch.shape)\n",
        "  break"
      ],
      "metadata": {
        "colab": {
          "base_uri": "https://localhost:8080/",
          "height": 517
        },
        "id": "LTgo4JA0vpbD",
        "outputId": "816753ec-903a-4653-ed1f-8f67b4d8dcdd"
      },
      "execution_count": 85,
      "outputs": [
        {
          "output_type": "stream",
          "name": "stdout",
          "text": [
            "Some Training Samples\n"
          ]
        },
        {
          "output_type": "display_data",
          "data": {
            "text/plain": [
              "<Figure size 500x500 with 9 Axes>"
            ],
            "image/png": "[encoded data removed]"
          },
          "metadata": {}
        },
        {
          "output_type": "stream",
          "name": "stdout",
          "text": [
            "Batch Shapes:\n",
            "Data:  (16, 32, 32, 1)\n",
            "Labels:  (16,)\n"
          ]
        }
      ]
    },
    {
      "cell_type": "code",
      "source": [
        "# Setup training procedure\n",
        "nn_model.compile(\n",
        "    optimizer=keras.optimizers.Adam(),\n",
        "    loss=[\n",
        "        keras.losses.SparseCategoricalCrossentropy(from_logits=False)\n",
        "    ],\n",
        "    metrics=[\"accuracy\"]\n",
        ")"
      ],
      "metadata": {
        "id": "vy3ViJxCNs9X"
      },
      "execution_count": null,
      "outputs": []
    },
    {
      "cell_type": "code",
      "source": [
        "# Train and Test\n",
        "print(f'\\nTraining:')\n",
        "nn_model.fit(ds_train, epochs=5, verbose=1)\n",
        "\n",
        "test_loss, test_accuracy = nn_model.evaluate(ds_validation)\n",
        "print(f'\\nTesting:\\nTest accuracy: {test_accuracy}, Test loss: {test_loss}')"
      ],
      "metadata": {
        "colab": {
          "base_uri": "https://localhost:8080/"
        },
        "id": "ik_IvXSguDhZ",
        "outputId": "f1da69bc-b540-409a-e466-78134819944a"
      },
      "execution_count": 86,
      "outputs": [
        {
          "output_type": "stream",
          "name": "stdout",
          "text": [
            "\n",
            "Training:\n",
            "\n",
            "Epoch 1/5\n",
            "\u001b[1m57/57\u001b[0m \u001b[32m━━━━━━━━━━━━━━━━━━━━\u001b[0m\u001b[37m\u001b[0m \u001b[1m8s\u001b[0m 66ms/step - accuracy: 0.1955 - loss: 2.2025\n",
            "Epoch 2/5\n",
            "\u001b[1m57/57\u001b[0m \u001b[32m━━━━━━━━━━━━━━━━━━━━\u001b[0m\u001b[37m\u001b[0m \u001b[1m4s\u001b[0m 67ms/step - accuracy: 0.5352 - loss: 1.3237\n",
            "Epoch 3/5\n",
            "\u001b[1m57/57\u001b[0m \u001b[32m━━━━━━━━━━━━━━━━━━━━\u001b[0m\u001b[37m\u001b[0m \u001b[1m3s\u001b[0m 34ms/step - accuracy: 0.7356 - loss: 0.7105\n",
            "Epoch 4/5\n",
            "\u001b[1m57/57\u001b[0m \u001b[32m━━━━━━━━━━━━━━━━━━━━\u001b[0m\u001b[37m\u001b[0m \u001b[1m3s\u001b[0m 34ms/step - accuracy: 0.8935 - loss: 0.3190\n",
            "Epoch 5/5\n",
            "\u001b[1m57/57\u001b[0m \u001b[32m━━━━━━━━━━━━━━━━━━━━\u001b[0m\u001b[37m\u001b[0m \u001b[1m3s\u001b[0m 40ms/step - accuracy: 0.9478 - loss: 0.1392\n",
            "\u001b[1m7/7\u001b[0m \u001b[32m━━━━━━━━━━━━━━━━━━━━\u001b[0m\u001b[37m\u001b[0m \u001b[1m0s\u001b[0m 26ms/step - accuracy: 0.9845 - loss: 0.0943\n",
            "\n",
            "Testing:\n",
            "Test accuracy: 0.9599999785423279, Test loss: 0.12866470217704773\n"
          ]
        }
      ]
    },
    {
      "cell_type": "code",
      "source": [
        "# Test model on single image\n",
        "test_img_path = r'/content/sample_data/digit_dataset/5/5_87.png'\n",
        "test_img = cv.imread(test_img_path, cv.IMREAD_GRAYSCALE)  # Load as grayscale\n",
        "test_img = prep_model_input(test_img) # batch of images\n",
        "test_prediction = nn_model.predict(test_img, verbose=0)[0]\n",
        "print(\"Probs:\")\n",
        "for i, pred in enumerate(test_prediction):\n",
        "    print(f\"\\t{i}: {pred}\")\n",
        "print(f\"Predicted digit: {np.argmax(test_prediction)}\")\n",
        "plt.imshow(test_img[0], cmap='gray', vmin=0, vmax=1)\n",
        "plt.show()"
      ],
      "metadata": {
        "colab": {
          "base_uri": "https://localhost:8080/",
          "height": 649
        },
        "id": "fL5llBX2U355",
        "outputId": "519921df-2a74-40e1-b78d-ce2f898249e1"
      },
      "execution_count": 174,
      "outputs": [
        {
          "output_type": "stream",
          "name": "stdout",
          "text": [
            "Probs:\n",
            "\t0: 1.6679836678523685e-10\n",
            "\t1: 5.089407864034001e-07\n",
            "\t2: 4.904352863377426e-06\n",
            "\t3: 4.783801705343649e-05\n",
            "\t4: 2.814278786900104e-06\n",
            "\t5: 0.9986743927001953\n",
            "\t6: 0.00014646867930423468\n",
            "\t7: 3.7617606807316406e-08\n",
            "\t8: 0.0008881791727617383\n",
            "\t9: 0.00023500168754253536\n",
            "Predicted digit: 5\n"
          ]
        },
        {
          "output_type": "display_data",
          "data": {
            "text/plain": [
              "<Figure size 640x480 with 1 Axes>"
            ],
            "image/png": "[encoded data removed]"
          },
          "metadata": {}
        }
      ]
    },
    {
      "cell_type": "code",
      "source": [
        "# Save model\n",
        "nn_model.save(\"/content/sample_data/SNET.keras\")"
      ],
      "metadata": {
        "id": "76-Y2gVG7wTn"
      },
      "execution_count": 118,
      "outputs": []
    },
    {
      "cell_type": "markdown",
      "source": [
        "## Use Model to Generate Quize from Image"
      ],
      "metadata": {
        "id": "7bQpSkZZ4LVi"
      }
    },
    {
      "cell_type": "code",
      "source": [
        "def load_quiz_cell_imagess():\n",
        "    dir = r'/content/sample_data/quiz_cell_images'\n",
        "    files = os.listdir(dir)\n",
        "    cell_images = {}\n",
        "    for file in files:\n",
        "        img = cv.imread(os.path.join(dir,file), cv.IMREAD_GRAYSCALE)\n",
        "        file_name = os.path.splitext(os.path.basename(file))[0]\n",
        "        cell_images[file_name] = img\n",
        "    return cell_images\n",
        "\n",
        "cell_images = load_quiz_cell_imagess()"
      ],
      "metadata": {
        "id": "6FSVWjbGbo9s"
      },
      "execution_count": 107,
      "outputs": []
    },
    {
      "cell_type": "code",
      "source": [
        "quiz_str_raw = ''\n",
        "\n",
        "for i in range(1,82):\n",
        "    cell_image = cell_images[str(i)]\n",
        "    cell_image = prep_model_input(cell_image) # batch of images\n",
        "    prediction = nn_model.predict(cell_image, verbose=0)[0]\n",
        "    predicted_digit = np.argmax(prediction)\n",
        "    quiz_str_raw += str(predicted_digit)\n",
        "\n",
        "print(\"Raw quiz string: \", quiz_str_raw)"
      ],
      "metadata": {
        "colab": {
          "base_uri": "https://localhost:8080/"
        },
        "id": "VQ1EvdTX6hLd",
        "outputId": "329c90df-ec18-4264-a41f-5a576ee1857c"
      },
      "execution_count": 109,
      "outputs": [
        {
          "output_type": "stream",
          "name": "stdout",
          "text": [
            "Raw quiz string:  400000960703400005020001004000830406096000010004106753072980500801007040500013327\n"
          ]
        }
      ]
    },
    {
      "cell_type": "code",
      "source": [
        "def quiz_str_to_grid(quiz_str: str) -> np.array:\n",
        "    \"\"\"\n",
        "    Converts a sudoku quiz in the string format of the dataset into a np.array\n",
        "    \"\"\"\n",
        "    quiz_arr = np.array([np.uint8(c) for c in quiz_str])\n",
        "    quiz_arr = quiz_arr.reshape(9, 9)\n",
        "    return quiz_arr\n",
        "\n",
        "def sudoku_grid_to_string(grid: np.array) -> str:\n",
        "    \"\"\"\n",
        "    Creates a nice string representation of a sudoku grid.\n",
        "    \"\"\"\n",
        "    formatted_rows = []\n",
        "    for i, row in enumerate(grid):\n",
        "        # Format the row with vertical separators for 3x3 blocks\n",
        "        formatted_row = \" | \".join(\n",
        "            \" \".join(str(cell) if cell != 0 else \".\" for cell in row[j:j+3])\n",
        "            for j in range(0, 9, 3)\n",
        "        )\n",
        "        formatted_rows.append(formatted_row)\n",
        "\n",
        "        # Add a horizontal separator every 3 rows\n",
        "        if (i + 1) % 3 == 0 and i != 8:\n",
        "            formatted_rows.append(\"-\" * 21)  # Length matches the row format\n",
        "\n",
        "    return \"\\n\".join(formatted_rows)"
      ],
      "metadata": {
        "id": "uwF4FfOV5LSB"
      },
      "execution_count": 110,
      "outputs": []
    },
    {
      "cell_type": "code",
      "source": [
        "quiz_grid = quiz_str_to_grid(quiz_str_raw)\n",
        "quiz_str = sudoku_grid_to_string(quiz_grid)\n",
        "print(quiz_str)"
      ],
      "metadata": {
        "colab": {
          "base_uri": "https://localhost:8080/"
        },
        "id": "ASVSSA3M7H_x",
        "outputId": "286e0851-e3c7-4332-b8ab-a9c2fb01d843"
      },
      "execution_count": 111,
      "outputs": [
        {
          "output_type": "stream",
          "name": "stdout",
          "text": [
            "4 . . | . . . | 9 6 .\n",
            "7 . 3 | 4 . . | . . 5\n",
            ". 2 . | . . 1 | . . 4\n",
            "---------------------\n",
            ". . . | 8 3 . | 4 . 6\n",
            ". 9 6 | . . . | . 1 .\n",
            ". . 4 | 1 . 6 | 7 5 3\n",
            "---------------------\n",
            ". 7 2 | 9 8 . | 5 . .\n",
            "8 . 1 | . . 7 | . 4 .\n",
            "5 . . | . 1 3 | 3 2 7\n"
          ]
        }
      ]
    },
    {
      "cell_type": "code",
      "source": [],
      "metadata": {
        "id": "I7ddp7157W07"
      },
      "execution_count": null,
      "outputs": []
    }
  ],
  "metadata": {
    "colab": {
      "gpuType": "T4",
      "provenance": [],
      "toc_visible": true,
      "collapsed_sections": [
        "_XXTe7sxyxQ2",
        "RAQHNQ9ry9Eg",
        "Z9rtzBB7J9GB",
        "BM790yRi05AZ",
        "tg8b6O9EFSs0"
      ]
    },
    "kernelspec": {
      "display_name": "Python 3",
      "name": "python3"
    },
    "language_info": {
      "name": "python"
    }
  },
  "nbformat": 4,
  "nbformat_minor": 0
}