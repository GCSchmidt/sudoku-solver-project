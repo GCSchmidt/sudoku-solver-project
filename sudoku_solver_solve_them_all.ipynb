{
 "cells": [
  {
   "cell_type": "markdown",
   "metadata": {
    "id": "jigShIMLVsuN"
   },
   "source": [
    "# A Notebook for Solving All 1 Million the Quizzes in the Dataset"
   ]
  },
  {
   "cell_type": "markdown",
   "metadata": {
    "id": "vDa_PBI0VxsW"
   },
   "source": [
    "## Imports and Global Variables"
   ]
  },
  {
   "cell_type": "code",
   "execution_count": null,
   "metadata": {
    "colab": {
     "base_uri": "https://localhost:8080/"
    },
    "executionInfo": {
     "elapsed": 11342,
     "status": "ok",
     "timestamp": 1738143437900,
     "user": {
      "displayName": "Gerhardt Schmidt",
      "userId": "11499379120855618987"
     },
     "user_tz": -60
    },
    "id": "1Kpv_WXdUVZe",
    "outputId": "a4f1f6c9-232d-415a-ec12-56d40b743329"
   },
   "outputs": [],
   "source": [
    "import pandas as pd\n",
    "import time\n",
    "import os\n",
    "from tqdm import tqdm\n",
    "import sudoku_solver as ss\n",
    "from sudoku_solver import Solver\n",
    "import multiprocessing as mp\n",
    "from functools import partial\n",
    "from google.colab import drive\n",
    "\n",
    "QUIZ_DF = pd.read_csv(r'sudoku.csv')\n",
    "RESULTS_FPATH = r'/content/drive/MyDrive/colab_notebooks/results/solve_them_all_results.csv'\n",
    "RESULTS_DF = None\n",
    "RESULT_INDEX = 0\n",
    "PASSED_N = 0\n",
    "\n",
    "drive.mount(\"/content/drive\", force_remount=True)"
   ]
  },
  {
   "cell_type": "markdown",
   "metadata": {
    "id": "SnLZ3kbbV0b8"
   },
   "source": [
    "## Helper Functions"
   ]
  },
  {
   "cell_type": "code",
   "execution_count": 2,
   "metadata": {
    "executionInfo": {
     "elapsed": 6,
     "status": "ok",
     "timestamp": 1738143437901,
     "user": {
      "displayName": "Gerhardt Schmidt",
      "userId": "11499379120855618987"
     },
     "user_tz": -60
    },
    "id": "TAV52o1oUy-J"
   },
   "outputs": [],
   "source": [
    "def solve_quiz(quiz_num):\n",
    "    \"\"\"\n",
    "    Helper function to solve a single quiz.\n",
    "    \"\"\"\n",
    "    # load quiz and solution\n",
    "    global QUIZ_DF\n",
    "\n",
    "    quiz, expected_solution = ss.load_quiz_from_dataset(QUIZ_DF, quiz_num)\n",
    "    solver = Solver(quiz)\n",
    "    solver.try_hard = True\n",
    "    actual_solution_array = solver.solve()\n",
    "    actual_solution_str = \"\".join([str(num) for num in actual_solution_array.flatten()])\n",
    "    quiz_result = (expected_solution == actual_solution_str)\n",
    "    return quiz_num, expected_solution, actual_solution_str, quiz_result\n",
    "\n",
    "def load_result_df():\n",
    "    \"\"\"\n",
    "    Loads or creates a CSV file for saving the results\n",
    "    \"\"\"\n",
    "    global RESULTS_DF, RESULTS_FPATH, PASSED_N\n",
    "\n",
    "    if os.path.isfile(RESULTS_FPATH):\n",
    "        RESULTS_DF = pd.read_csv(RESULTS_FPATH)\n",
    "    else:\n",
    "        RESULTS_DF = pd.DataFrame(columns=['id', 'expected_solution', 'actual_solution', 'correct'])\n",
    "        RESULTS_DF.to_csv(RESULTS_FPATH, index=False)\n",
    "    RESULT_INDEX = len(RESULTS_DF)\n",
    "    PASSED_N = RESULTS_DF['correct'].values.sum()\n",
    "    print(f'Current results contain {RESULT_INDEX} solutions, {PASSED_N} are correct.')"
   ]
  },
  {
   "cell_type": "markdown",
   "metadata": {
    "id": "sftVsTAFVqpn"
   },
   "source": [
    "## Start Solving"
   ]
  },
  {
   "cell_type": "code",
   "execution_count": null,
   "metadata": {
    "colab": {
     "base_uri": "https://localhost:8080/"
    },
    "id": "MFI_7T3gWcE9",
    "outputId": "9fbbc843-b556-4259-c214-9895feb2e8d4"
   },
   "outputs": [],
   "source": [
    "load_result_df()\n",
    "results = []\n",
    "N = len(QUIZ_DF)\n",
    "for i in tqdm(range(RESULT_INDEX, N)):\n",
    "    quiz_num, expected_solution, actual_solution, quiz_result = solve_quiz(i)\n",
    "\n",
    "    results.append({\n",
    "        \"quiz_num\": quiz_num,\n",
    "        \"expected_solution\": expected_solution,\n",
    "        \"actual_solution\": actual_solution,\n",
    "        \"correct\": quiz_result\n",
    "    })\n",
    "\n",
    "    if quiz_result:\n",
    "        PASSED_N += 1\n",
    "\n",
    "     # Save in batches\n",
    "    if (i + 1) % 1000 == 0 or (i + 1) == N:\n",
    "        batch_results_df = pd.DataFrame(results)\n",
    "        combined_df = pd.concat([RESULTS_DF, batch_results_df], ignore_index=True)\n",
    "        combined_df.to_csv(RESULTS_FPATH, index=False)\n",
    "        RESULTS_DF = combined_df  # Update previous results\n",
    "        results = []  # Clear list after saving\n",
    "        print(f\"\\n[UPDATE] Progress saved at {i + 1}/{N} quizzes completed - {PASSED_N} correctly solved\")\n",
    "\n",
    "print(f\"\\n[FINAL] From {N} total quizzes, {PASSED_N} were correctly solved!\")\n",
    "print(f\"[FINAL] Verify the results at {RESULTS_FPATH}\\n\")"
   ]
  },
  {
   "cell_type": "code",
   "execution_count": null,
   "metadata": {
    "id": "o8CBAJY_YIi2"
   },
   "outputs": [],
   "source": []
  }
 ],
 "metadata": {
  "colab": {
   "authorship_tag": "ABX9TyP51+9ibCBL74C11XG3XZwE",
   "gpuType": "T4",
   "provenance": []
  },
  "kernelspec": {
   "display_name": "Python 3",
   "name": "python3"
  },
  "language_info": {
   "name": "python"
  }
 },
 "nbformat": 4,
 "nbformat_minor": 0
}
